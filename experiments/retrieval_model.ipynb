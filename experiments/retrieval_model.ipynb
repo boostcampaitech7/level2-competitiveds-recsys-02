{
 "cells": [
  {
   "cell_type": "code",
   "execution_count": 1,
   "metadata": {},
   "outputs": [],
   "source": [
    "import os\n",
    "import pandas as pd\n",
    "import numpy as np\n",
    "import lightgbm as lgb\n",
    "from sklearn.metrics import mean_squared_error, mean_absolute_error"
   ]
  },
  {
   "cell_type": "code",
   "execution_count": 2,
   "metadata": {},
   "outputs": [],
   "source": [
    "RANDOM_SEED = 42\n",
    "np.random.seed(RANDOM_SEED)"
   ]
  },
  {
   "cell_type": "code",
   "execution_count": 3,
   "metadata": {},
   "outputs": [],
   "source": [
    "train_data = pd.read_csv('./data/train.csv')\n",
    "test_data = pd.read_csv('./data/test.csv')\n",
    "sample_submission = pd.read_csv('./data/sample_submission.csv')"
   ]
  },
  {
   "cell_type": "code",
   "execution_count": 4,
   "metadata": {},
   "outputs": [],
   "source": [
    "columns_needed = ['area_m2', 'contract_year_month',  'floor', 'latitude', 'longitude', 'age', 'deposit']\n",
    "columns_needed_test = ['area_m2', 'contract_year_month',  'floor', 'latitude','longitude','age' ]\n",
    "train_data = train_data[columns_needed]\n",
    "test_data = test_data[columns_needed_test]"
   ]
  },
  {
   "cell_type": "code",
   "execution_count": 5,
   "metadata": {},
   "outputs": [
    {
     "data": {
      "text/plain": [
       "(1603545, 7)"
      ]
     },
     "execution_count": 5,
     "metadata": {},
     "output_type": "execute_result"
    }
   ],
   "source": [
    "train_data = train_data.drop_duplicates()\n",
    "train_data.shape"
   ]
  },
  {
   "cell_type": "code",
   "execution_count": 6,
   "metadata": {},
   "outputs": [],
   "source": [
    "holdout_start = 202307\n",
    "holdout_end = 202312\n",
    "holdout_data = train_data[(train_data['contract_year_month'] >= holdout_start) & (train_data['contract_year_month'] <= holdout_end)]\n",
    "train_data = train_data[~((train_data['contract_year_month'] >= holdout_start) & (train_data['contract_year_month'] <= holdout_end))]"
   ]
  },
  {
   "cell_type": "code",
   "execution_count": 9,
   "metadata": {},
   "outputs": [],
   "source": [
    "X_train = train_data.drop(columns=['deposit'])\n",
    "y_train = train_data['deposit']\n",
    "X_holdout = holdout_data.drop(columns=['deposit'])\n",
    "y_holdout = holdout_data['deposit']\n",
    "X_test = test_data.copy()"
   ]
  },
  {
   "cell_type": "code",
   "execution_count": 10,
   "metadata": {},
   "outputs": [],
   "source": [
    "# train_data 에서 retreval로 새로운 feature 추가하기\n",
    "from sklearn.preprocessing import StandardScaler\n",
    "import faiss\n",
    "\n",
    "scaler = StandardScaler()\n",
    "X_train_scaled = scaler.fit_transform(X_train)\n",
    "X_holdout_scaled = scaler.transform(X_holdout)\n",
    "X_holdout_scaled[:, 0] = X_holdout_scaled[:, 0] * 10"
   ]
  },
  {
   "cell_type": "code",
   "execution_count": 11,
   "metadata": {},
   "outputs": [],
   "source": [
    "# X, y 다시 합치기\n",
    "train = pd.concat([X_train, y_train], axis=1)\n",
    "holdout = pd.concat([X_holdout, y_holdout], axis=1)"
   ]
  },
  {
   "cell_type": "code",
   "execution_count": 12,
   "metadata": {},
   "outputs": [
    {
     "name": "stdout",
     "output_type": "stream",
     "text": [
      "[LightGBM] [Info] Auto-choosing row-wise multi-threading, the overhead of testing was 0.003205 seconds.\n",
      "You can set `force_row_wise=true` to remove the overhead.\n",
      "And if memory is not enough, you can set `force_col_wise=true`.\n",
      "[LightGBM] [Info] Total Bins 938\n",
      "[LightGBM] [Info] Number of data points in the train set: 1423166, number of used features: 6\n",
      "[LightGBM] [Info] Start training from score 37959.583441\n",
      "MAE: 6637.35027\n"
     ]
    }
   ],
   "source": [
    "# lgbm 모델 학습\n",
    "from lightgbm import LGBMRegressor\n",
    "lgbm = LGBMRegressor(random_state=RANDOM_SEED)\n",
    "lgbm.fit(X_train, y_train)\n",
    "\n",
    "lgbm_pred = lgbm.predict(X_holdout)\n",
    "#MAE\n",
    "mae = mean_absolute_error(y_holdout, lgbm_pred)\n",
    "print(f'MAE: {mae:.5f}')"
   ]
  },
  {
   "cell_type": "code",
   "execution_count": 13,
   "metadata": {},
   "outputs": [
    {
     "name": "stdout",
     "output_type": "stream",
     "text": [
      "faiss MAE: 4699.90981\n",
      "tree MAE: 6710.81704\n",
      "all_mae: 4718.52736\n",
      "errors: 1508.95397\n"
     ]
    }
   ],
   "source": [
    "# 일단 holdout에서 위도, 경도가 일치하는 train이 있는지 확인\n",
    "result_faiss = 0\n",
    "cnt_faiss = 0\n",
    "result_tree = 0\n",
    "cnt_tree = 0\n",
    "errors = 0\n",
    "for i in range(len(holdout)):\n",
    "    NUM = i\n",
    "\n",
    "    holdout_data_1 = holdout.iloc[NUM]\n",
    "    # print(holdout_data_1)\n",
    "    holdout_data_1 = holdout_data_1.drop('deposit')\n",
    "\n",
    "    filtered_train = train[(train['latitude'] == holdout_data_1['latitude']) & (train['longitude'] == holdout_data_1['longitude'])]\n",
    "    filtered_train_X = filtered_train.drop(columns=['deposit'])\n",
    "    filtered_train_y = filtered_train['deposit']\n",
    "\n",
    "    if not filtered_train.empty:\n",
    "        # print(len(filtered_train))\n",
    "        # holdout_data_1과 가장 가까운 train 데이터를 찾기\n",
    "        train_X_scaled = scaler.transform(filtered_train_X)\n",
    "        train_X_scaled[:, 0] = train_X_scaled[:, 0] * 10 # Weight\n",
    "        index = faiss.IndexFlatL2(train_X_scaled.shape[1])\n",
    "        index.add(train_X_scaled)\n",
    "        D, I = index.search(np.array([X_holdout_scaled[NUM]]), 10)\n",
    "        out = 0\n",
    "        cnt = 0\n",
    "        for i in range(10):\n",
    "            if D[0][i] > 3 and i != 0: break # Weight\n",
    "            out += filtered_train_y.iloc[I[0][i]]\n",
    "            cnt += 1\n",
    "        real_deposit = holdout.iloc[NUM]['deposit']\n",
    "        mae = mean_absolute_error([real_deposit], [out / cnt])\n",
    "        errors += real_deposit - out / cnt\n",
    "        result_faiss += mae\n",
    "        cnt_faiss += 1\n",
    "    else:\n",
    "        lgbm_pred = lgbm.predict([holdout_data_1])\n",
    "        mae = mean_absolute_error([holdout.iloc[NUM]['deposit']], lgbm_pred)\n",
    "        result_tree += mae\n",
    "        cnt_tree += 1\n",
    "        \n",
    "print(f'faiss MAE: {result_faiss / cnt_faiss:.5f}')\n",
    "print(f'tree MAE: {result_tree / cnt_tree:.5f}')\n",
    "print(f'all_mae: {(result_faiss + result_tree) / (cnt_faiss + cnt_tree):.5f}')\n",
    "print(f'errors: {errors / cnt_faiss:.5f}')"
   ]
  },
  {
   "cell_type": "markdown",
   "metadata": {},
   "source": [
    "2.5 10 no data: "
   ]
  },
  {
   "cell_type": "markdown",
   "metadata": {},
   "source": [
    "D 3, weight 10, 10개: \n",
    "faiss MAE: 4701.91494\n",
    "tree MAE: 7658.20250\n",
    "all_mae: 4729.21043"
   ]
  },
  {
   "cell_type": "markdown",
   "metadata": {},
   "source": [
    "D 2.5 weigth 10: \n",
    "faiss MAE: 4741.54740\n",
    "tree MAE: 7658.20250\n",
    "all_mae: 4768.47696"
   ]
  },
  {
   "cell_type": "markdown",
   "metadata": {},
   "source": [
    "D 값 1 이하 채택: \n",
    "aiss MAE: 5332.00448 / tree MAE: 7658.20250 / all_mae: 5353.48234\n",
    "\n",
    "D 값 0.8 이하 채택: \n",
    "faiss MAE: 5364.42212 / tree MAE: 7658.20250 / all_mae: 5385.60066"
   ]
  },
  {
   "cell_type": "code",
   "execution_count": 14,
   "metadata": {},
   "outputs": [
    {
     "name": "stdout",
     "output_type": "stream",
     "text": [
      "[12527.36437153]\n",
      "17000.0\n"
     ]
    }
   ],
   "source": [
    "from lightgbm import LGBMRegressor\n",
    "\n",
    "# lgbm regression으로 \n",
    "NUM = 130\n",
    "holdout_data_1 = holdout.iloc[NUM]\n",
    "filtered_train = train[(train['latitude'] == holdout_data_1['latitude']) & (train['longitude'] == holdout_data_1['longitude'])]\n",
    "filtered_train_X = filtered_train.drop(columns=['deposit'])\n",
    "filtered_train_y = filtered_train['deposit']\n",
    "\n",
    "if not filtered_train.empty:\n",
    "    \n",
    "    model = LGBMRegressor(random_state=RANDOM_SEED, verbose=-1)\n",
    "    model.fit(filtered_train_X, filtered_train_y)\n",
    "    pred = model.predict([X_holdout_scaled[NUM]])\n",
    "    print(pred)\n",
    "    \n",
    "    real_deposit = y_holdout.iloc[NUM]\n",
    "    print(real_deposit)"
   ]
  },
  {
   "cell_type": "code",
   "execution_count": null,
   "metadata": {},
   "outputs": [],
   "source": []
  }
 ],
 "metadata": {
  "kernelspec": {
   "display_name": "venv",
   "language": "python",
   "name": "python3"
  },
  "language_info": {
   "codemirror_mode": {
    "name": "ipython",
    "version": 3
   },
   "file_extension": ".py",
   "mimetype": "text/x-python",
   "name": "python",
   "nbconvert_exporter": "python",
   "pygments_lexer": "ipython3",
   "version": "3.12.2"
  }
 },
 "nbformat": 4,
 "nbformat_minor": 2
}
