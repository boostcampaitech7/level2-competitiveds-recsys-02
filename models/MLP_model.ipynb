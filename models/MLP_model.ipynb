{
 "cells": [
  {
   "cell_type": "markdown",
   "metadata": {},
   "source": [
    "# 라이브러리 불러오기"
   ]
  },
  {
   "cell_type": "code",
   "execution_count": 1,
   "metadata": {},
   "outputs": [],
   "source": [
    "import pandas as pd\n",
    "import numpy as np\n",
    "import torch\n",
    "from torch import nn, optim                         \n",
    "from torch.utils.data import DataLoader     \n",
    "from sklearn.preprocessing import MinMaxScaler\n",
    "from MLP import TrainDataset, MLP, train, evaluation, CosineAnnealingWarmUpRestarts"
   ]
  },
  {
   "cell_type": "markdown",
   "metadata": {},
   "source": [
    "# 랜덤 시드 설정"
   ]
  },
  {
   "cell_type": "code",
   "execution_count": 2,
   "metadata": {},
   "outputs": [],
   "source": [
    "RANDOM_SEED = 42\n",
    "np.random.seed(RANDOM_SEED)"
   ]
  },
  {
   "cell_type": "markdown",
   "metadata": {},
   "source": [
    "# 데이터 불러오기"
   ]
  },
  {
   "cell_type": "code",
   "execution_count": 3,
   "metadata": {},
   "outputs": [],
   "source": [
    "data = pd.read_csv('../data/merged_data_1021.csv')\n",
    "sample_submission = pd.read_csv('../data/sample_submission.csv')"
   ]
  },
  {
   "cell_type": "code",
   "execution_count": null,
   "metadata": {},
   "outputs": [],
   "source": [
    "train_data = data[data._type == 'train']\n",
    "test_data = data[data._type == 'test']"
   ]
  },
  {
   "cell_type": "markdown",
   "metadata": {},
   "source": [
    "# 대회에 필요한 데이터만 활용하기"
   ]
  },
  {
   "cell_type": "code",
   "execution_count": 4,
   "metadata": {},
   "outputs": [],
   "source": [
    "# 결측치 및 불필요한 변수 제거\n",
    "drop_cols = ['index', 'deposit_by_area', 'park_distance_skewness', 'park_distance_kurtosis', 'interest_rate_diff', '_type'] \n",
    "train_data = train_data.drop(drop_cols, axis=1)\n",
    "test_data = test_data.drop(drop_cols, axis=1)"
   ]
  },
  {
   "cell_type": "markdown",
   "metadata": {},
   "source": [
    "# Holdout 데이터셋 설정 (예: 2023년 7월부터 12월까지의 데이터)"
   ]
  },
  {
   "cell_type": "code",
   "execution_count": 5,
   "metadata": {},
   "outputs": [],
   "source": [
    "holdout_start = 202307\n",
    "holdout_end = 202312\n",
    "holdout_data = train_data[(train_data['contract_year_month'] >= holdout_start) & (train_data['contract_year_month'] <= holdout_end)]\n",
    "train_data = train_data[~((train_data['contract_year_month'] >= holdout_start) & (train_data['contract_year_month'] <= holdout_end))]"
   ]
  },
  {
   "cell_type": "markdown",
   "metadata": {},
   "source": [
    "# 학습 데이터와 정답 데이터 분리"
   ]
  },
  {
   "cell_type": "code",
   "execution_count": 6,
   "metadata": {},
   "outputs": [],
   "source": [
    "X_train = train_data.drop(columns=['deposit']).to_numpy()\n",
    "y_train = train_data['deposit'].to_numpy().reshape((-1,1)) # shape 꼭 맞춰주기 \n",
    "X_holdout = holdout_data.drop(columns=['deposit']).to_numpy()\n",
    "y_holdout = holdout_data['deposit'].to_numpy().reshape((-1,1)) # shape 꼭 맞춰주기 \n",
    "X_test = test_data.drop(columns=['deposit']).to_numpy()"
   ]
  },
  {
   "cell_type": "code",
   "execution_count": 7,
   "metadata": {},
   "outputs": [],
   "source": [
    "# 스케일링 \n",
    "scaler = MinMaxScaler()\n",
    "X_train = scaler.fit_transform(X_train)\n",
    "X_holdout = scaler.transform(X_holdout)\n",
    "X_test = scaler.transform(X_test)"
   ]
  },
  {
   "cell_type": "markdown",
   "metadata": {},
   "source": [
    "# MLP 모델 훈련"
   ]
  },
  {
   "cell_type": "code",
   "execution_count": 8,
   "metadata": {},
   "outputs": [],
   "source": [
    "batch_size = 256\n",
    "\n",
    "trainsets = TrainDataset(X_train, y_train)\n",
    "trainloader = DataLoader(trainsets, batch_size=batch_size, shuffle=True)\n",
    "\n",
    "validsets = TrainDataset(X_holdout, y_holdout)\n",
    "validloader = DataLoader(validsets, batch_size=batch_size, shuffle=False)"
   ]
  },
  {
   "cell_type": "code",
   "execution_count": 9,
   "metadata": {},
   "outputs": [
    {
     "name": "stdout",
     "output_type": "stream",
     "text": [
      "cuda\n"
     ]
    }
   ],
   "source": [
    "device = torch.device(\"cuda\" if torch.cuda.is_available() else \"cpu\")\n",
    "print(device)\n",
    "\n",
    "model = MLP(X_train.shape[1])\n",
    "criterion = nn.L1Loss(reduction='sum')\n",
    "optimizer = optim.Adam(model.parameters(), lr = 0)\n",
    "scheduler = CosineAnnealingWarmUpRestarts(optimizer, T_0=50, T_mult=1, eta_max=0.1,  T_up=10, gamma=0.5)\n",
    "epochs = 140"
   ]
  },
  {
   "cell_type": "code",
   "execution_count": null,
   "metadata": {},
   "outputs": [],
   "source": [
    "checkpoint_name = 'MLP-baseline'\n",
    "train(model, trainloader, validloader, criterion, optimizer, epochs, device, checkpoint_name, scheduler)"
   ]
  },
  {
   "cell_type": "markdown",
   "metadata": {},
   "source": [
    "# Holdout 데이터셋에 대한 성능 확인"
   ]
  },
  {
   "cell_type": "code",
   "execution_count": null,
   "metadata": {},
   "outputs": [],
   "source": [
    "mlp_model = MLP(X_train.shape[1])\n",
    "mlp_model.load_state_dict(torch.load(f'checkpoint/{checkpoint_name}_parameters.pt'))"
   ]
  },
  {
   "cell_type": "code",
   "execution_count": null,
   "metadata": {},
   "outputs": [],
   "source": [
    "mlp_holdout_mae = evaluation(mlp_model, validloader, criterion, device)\n",
    "print(\"Holdout 데이터셋 성능:\")\n",
    "print(f\"MLP MAE: {mlp_holdout_mae:.2f}\")"
   ]
  },
  {
   "cell_type": "markdown",
   "metadata": {},
   "source": [
    "# Sample Submission 제출하기"
   ]
  },
  {
   "cell_type": "code",
   "execution_count": 27,
   "metadata": {},
   "outputs": [],
   "source": [
    "X_test_tensor = torch.FloatTensor(X_test)\n",
    "X_test_tensor = X_test_tensor.to(device)\n",
    "mlp_model.to(device)\n",
    "mlp_model.eval()\n",
    "with torch.no_grad():\n",
    "    mlp_test_pred = mlp_model(X_test_tensor)"
   ]
  },
  {
   "cell_type": "code",
   "execution_count": null,
   "metadata": {},
   "outputs": [],
   "source": [
    "mlp_test_pred = mlp_test_pred.flatten().tolist()\n",
    "sample_submission['deposit'] = mlp_test_pred\n",
    "sample_submission.to_csv(f'output/sample_submission_output.csv', index=False, encoding='utf-8-sig')"
   ]
  }
 ],
 "metadata": {
  "kernelspec": {
   "display_name": "base",
   "language": "python",
   "name": "python3"
  },
  "language_info": {
   "codemirror_mode": {
    "name": "ipython",
    "version": 3
   },
   "file_extension": ".py",
   "mimetype": "text/x-python",
   "name": "python",
   "nbconvert_exporter": "python",
   "pygments_lexer": "ipython3",
   "version": "3.10.13"
  }
 },
 "nbformat": 4,
 "nbformat_minor": 2
}
